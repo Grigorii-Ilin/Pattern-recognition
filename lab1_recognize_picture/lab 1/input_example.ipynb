import numpy as np
import matplotlib.pyplot as plt
import skimage.data
import cv2


filename=input("Файл скана газеты: ")
#image=np.array(object=skimage.data.coins(), dtype=np.uint8)
#image=np.array(object=skimage.io.imread(filename), dtype=np.uint8)
image = cv2.imread(filename)
impage

fig, ax = plt.subplots()
ax.imshow(image)

image[image<128]=0
image[image>=128]=1
fig, ax = plt.subplots()
ax.imshow(image, cmap='Greys_r')

img2=cv2.morphologyEx(src=image, op=cv2.MORPH_CLOSE, kernel=np.array([[1]*9]*9))
fig, ax = plt.subplots()
ax.imshow(img2, cmap='Greys_r')

img3=cv2.erode(src=img2, kernel=np.array([[1]*3]*3))
fig, ax = plt.subplots()
ax.imshow(img3, cmap='Greys_r')

plt.show()

input()